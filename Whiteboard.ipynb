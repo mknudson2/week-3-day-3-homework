{
 "cells": [
  {
   "cell_type": "code",
   "execution_count": null,
   "id": "84f48357",
   "metadata": {},
   "outputs": [],
   "source": [
    "# Write a function that accepts an array of 10 integers (between 0 and 9), that returns a string of those \n",
    "# numbers in the form of a phone number.\n",
    "\n",
    "# Example\n",
    "# create_phone_number([1, 2, 3, 4, 5, 6, 7, 8, 9, 0]) # => returns \"(123) 456-7890\"\n",
    "# The returned format must be correct in order to complete this challenge.\n",
    "\n",
    "# Don't forget the space after the closing parentheses!\n",
    "\n",
    "\n",
    "# How to solve a problem:\n",
    "    # Figure out what the input and its type are\n",
    "    # Set up a function\n",
    "    # Figure out what the output and its type are\n",
    "    # Gather Your Knowledge\n",
    "    # Gathers Your Constraints\n",
    "    # Determine a Logical way to solve the problem\n",
    "        #Write each step out english\n",
    "        #Write each step out in Python-esse\n",
    "    # Invoke and Test Your Function"
   ]
  },
  {
   "cell_type": "code",
   "execution_count": 5,
   "id": "1760c56c",
   "metadata": {},
   "outputs": [
    {
     "name": "stdout",
     "output_type": "stream",
     "text": [
      "(<ge) ner-ator\n"
     ]
    }
   ],
   "source": [
    "\"\"\"\n",
    "Reqs:\n",
    "1. input: an array of integers between 0 and 9\n",
    "2. Output a phone number with specifc format / spacing (perhaps f'{###} {###}-{####}')\n",
    "\n",
    "\n",
    "Steps:\n",
    "1. create a function which argument takes in an array\n",
    "2. define the array\n",
    "3. can I create a return of 3-4 digits in length, one for each set in the phone number?\n",
    "\"\"\"\n",
    "\n",
    "array = [0, 1, 2, 3, 4, 5, 6, 7, 8, 9]\n",
    "\n",
    "def phone_number(input_array):\n",
    "    input_array = str(randint(0, 9) for num in range(10))\n",
    "    return f'({input_array[0:3]}) {input_array[3:6]}-{input_array[6:10]}'\n",
    "\n",
    "print(phone_number(array))"
   ]
  },
  {
   "cell_type": "code",
   "execution_count": 10,
   "id": "d5c2fdfc",
   "metadata": {},
   "outputs": [
    {
     "ename": "TypeError",
     "evalue": "sequence item 0: expected str instance, int found",
     "output_type": "error",
     "traceback": [
      "\u001b[0;31m---------------------------------------------------------------------------\u001b[0m",
      "\u001b[0;31mTypeError\u001b[0m                                 Traceback (most recent call last)",
      "Cell \u001b[0;32mIn[10], line 9\u001b[0m\n\u001b[1;32m      6\u001b[0m     formatted_number \u001b[38;5;241m=\u001b[39m \u001b[38;5;124mf\u001b[39m\u001b[38;5;124m'\u001b[39m\u001b[38;5;124m(\u001b[39m\u001b[38;5;132;01m{\u001b[39;00m\u001b[38;5;124m\"\u001b[39m\u001b[38;5;124m\"\u001b[39m\u001b[38;5;241m.\u001b[39mjoin(numbers[\u001b[38;5;241m0\u001b[39m:\u001b[38;5;241m3\u001b[39m])\u001b[38;5;132;01m}\u001b[39;00m\u001b[38;5;124m \u001b[39m\u001b[38;5;132;01m{\u001b[39;00m\u001b[38;5;124m\"\u001b[39m\u001b[38;5;124m\"\u001b[39m\u001b[38;5;241m.\u001b[39mjoin(numbers[\u001b[38;5;241m3\u001b[39m:\u001b[38;5;241m6\u001b[39m])\u001b[38;5;132;01m}\u001b[39;00m\u001b[38;5;124m-\u001b[39m\u001b[38;5;132;01m{\u001b[39;00m\u001b[38;5;124m\"\u001b[39m\u001b[38;5;124m\"\u001b[39m\u001b[38;5;241m.\u001b[39mjoin(numbers[\u001b[38;5;241m6\u001b[39m:\u001b[38;5;241m10\u001b[39m])\u001b[38;5;132;01m}\u001b[39;00m\u001b[38;5;124m'\u001b[39m\n\u001b[1;32m      7\u001b[0m     \u001b[38;5;28;01mreturn\u001b[39;00m formatted_number\n\u001b[0;32m----> 9\u001b[0m \u001b[38;5;28mprint\u001b[39m(\u001b[43mphone_number\u001b[49m\u001b[43m(\u001b[49m\u001b[43marray\u001b[49m\u001b[43m)\u001b[49m)\n",
      "Cell \u001b[0;32mIn[10], line 6\u001b[0m, in \u001b[0;36mphone_number\u001b[0;34m(numbers)\u001b[0m\n\u001b[1;32m      5\u001b[0m \u001b[38;5;28;01mdef\u001b[39;00m \u001b[38;5;21mphone_number\u001b[39m(numbers):\n\u001b[0;32m----> 6\u001b[0m     formatted_number \u001b[38;5;241m=\u001b[39m \u001b[38;5;124mf\u001b[39m\u001b[38;5;124m'\u001b[39m\u001b[38;5;124m(\u001b[39m\u001b[38;5;132;01m{\u001b[39;00m\u001b[38;5;124m\"\u001b[39m\u001b[38;5;124m\"\u001b[39m\u001b[38;5;241m.\u001b[39mjoin(numbers[\u001b[38;5;241m0\u001b[39m:\u001b[38;5;241m3\u001b[39m])\u001b[38;5;132;01m}\u001b[39;00m\u001b[38;5;124m \u001b[39m\u001b[38;5;132;01m{\u001b[39;00m\u001b[38;5;124m\"\u001b[39m\u001b[38;5;124m\"\u001b[39m\u001b[38;5;241m.\u001b[39mjoin(numbers[\u001b[38;5;241m3\u001b[39m:\u001b[38;5;241m6\u001b[39m])\u001b[38;5;132;01m}\u001b[39;00m\u001b[38;5;124m-\u001b[39m\u001b[38;5;132;01m{\u001b[39;00m\u001b[38;5;124m\"\u001b[39m\u001b[38;5;124m\"\u001b[39m\u001b[38;5;241m.\u001b[39mjoin(numbers[\u001b[38;5;241m6\u001b[39m:\u001b[38;5;241m10\u001b[39m])\u001b[38;5;132;01m}\u001b[39;00m\u001b[38;5;124m'\u001b[39m\n\u001b[1;32m      7\u001b[0m     \u001b[38;5;28;01mreturn\u001b[39;00m formatted_number\n",
      "\u001b[0;31mTypeError\u001b[0m: sequence item 0: expected str instance, int found"
     ]
    }
   ],
   "source": [
    "# Tajay Solution\n",
    "\n",
    "array = [0, 1, 2, 3, 4, 5, 6, 7, 8, 9]\n",
    "\n",
    "def phone_number(numbers):\n",
    "    formatted_number = f'({\"\".join(numbers[0:3])} {\"\".join(numbers[3:6])}-{\"\".join(numbers[6:10])}'\n",
    "    return formatted_number\n",
    "\n",
    "print(phone_number(array))"
   ]
  },
  {
   "cell_type": "code",
   "execution_count": 3,
   "id": "bd0df3bd",
   "metadata": {},
   "outputs": [
    {
     "name": "stdout",
     "output_type": "stream",
     "text": [
      "(012) 345-6789\n",
      "(437) 253-3638\n"
     ]
    }
   ],
   "source": [
    "from random import randint\n",
    "\n",
    "def format_phone_number(numbers):\n",
    "    if len(numbers) != 10:\n",
    "        raise ValueError(\"Invalid input. Array must contain exactly 10 integers.\")\n",
    "    \n",
    "    formatted_number = \"(\" + \"\".join(map(str, numbers[:3])) + \") \"\n",
    "    formatted_number += \"\".join(map(str, numbers[3:6])) + \"-\"\n",
    "    formatted_number += \"\".join(map(str, numbers[6:]))\n",
    "    \n",
    "    return formatted_number\n",
    "\n",
    "def generate_random_phone_number():\n",
    "    numbers = [randint(0, 9) for _ in range(10)]\n",
    "    return format_phone_number(numbers)\n",
    "\n",
    "# Example usage\n",
    "phone_numbers = [0, 1, 2, 3, 4, 5, 6, 7, 8, 9]\n",
    "formatted_number = format_phone_number(phone_numbers)\n",
    "print(formatted_number)\n",
    "\n",
    "random_phone_number = generate_random_phone_number()\n",
    "print(random_phone_number)\n"
   ]
  }
 ],
 "metadata": {
  "kernelspec": {
   "display_name": "Python 3 (ipykernel)",
   "language": "python",
   "name": "python3"
  },
  "language_info": {
   "codemirror_mode": {
    "name": "ipython",
    "version": 3
   },
   "file_extension": ".py",
   "mimetype": "text/x-python",
   "name": "python",
   "nbconvert_exporter": "python",
   "pygments_lexer": "ipython3",
   "version": "3.10.9"
  }
 },
 "nbformat": 4,
 "nbformat_minor": 5
}
