{
 "cells": [
  {
   "cell_type": "markdown",
   "metadata": {},
   "source": [
    "# Map, Filter, Reduce, Lambda & Recursion"
   ]
  },
  {
   "cell_type": "markdown",
   "metadata": {},
   "source": [
    "## Tasks Today:\n",
    "\n",
    "1) <b>Lambda Functions</b> <br>\n",
    " &nbsp;&nbsp;&nbsp;&nbsp; a) Syntax <br>\n",
    " &nbsp;&nbsp;&nbsp;&nbsp; b) Saving to a Variable <br>\n",
    " &nbsp;&nbsp;&nbsp;&nbsp; c) Multiple Inputs <br>\n",
    " &nbsp;&nbsp;&nbsp;&nbsp; d) Passing a Lambda into a Function <br>\n",
    " &nbsp;&nbsp;&nbsp;&nbsp; e) Returning a Lambda from a Function <br>\n",
    " &nbsp;&nbsp;&nbsp;&nbsp; f) In-Class Exercise #1 <br>\n",
    "2) <b>Map</b> <br>\n",
    " &nbsp;&nbsp;&nbsp;&nbsp; a) Syntax <br>\n",
    " &nbsp;&nbsp;&nbsp;&nbsp; b) Using Lambda's with Map <br>\n",
    " &nbsp;&nbsp;&nbsp;&nbsp; c) In-Class Exercise #2 <br>\n",
    "3) <b>Filter</b> <br>\n",
    " &nbsp;&nbsp;&nbsp;&nbsp; a) Syntax <br>\n",
    " &nbsp;&nbsp;&nbsp;&nbsp; b) Using Lambda's with Filter <br>\n",
    " &nbsp;&nbsp;&nbsp;&nbsp; c) In-Class Exercise #3 <br>\n",
    "4) <b>Reduce</b> <br>\n",
    " &nbsp;&nbsp;&nbsp;&nbsp; a) Syntax <br>\n",
    " &nbsp;&nbsp;&nbsp;&nbsp; b) Using Lambda's with Reduce <br>\n",
    " &nbsp;&nbsp;&nbsp;&nbsp; c) In-Class Exercise #4 <br>\n",
    "5) <b>Recursion</b> <br>\n",
    " &nbsp;&nbsp;&nbsp;&nbsp; a) Implementing a Base <br>\n",
    " &nbsp;&nbsp;&nbsp;&nbsp; b) Writing a Factorial Function <br>\n",
    " &nbsp;&nbsp;&nbsp;&nbsp; c) In-Class Exercise #5 <br>\n",
    "6) <b>Generators & Iterators</b> <br>\n",
    " &nbsp;&nbsp;&nbsp;&nbsp; a) Yield Keyword <br>\n",
    " &nbsp;&nbsp;&nbsp;&nbsp; b) Inifinite Generator <br>\n",
    " &nbsp;&nbsp;&nbsp;&nbsp; c) In-Class Exercise #6 <br>\n",
    "7) <b>Exercises</b> <br>\n",
    " &nbsp;&nbsp;&nbsp;&nbsp; a) Exercise #1 - Filtering Empty Strings <br>\n",
    " &nbsp;&nbsp;&nbsp;&nbsp; b) Exercise #2 - Sorting with Last Name <br>\n",
    " &nbsp;&nbsp;&nbsp;&nbsp; c) Exercise #3 - Conversion to Farhenheit <br>\n",
    " &nbsp;&nbsp;&nbsp;&nbsp; d) Exercise #4 - Fibonacci Sequence <br>"
   ]
  },
  {
   "cell_type": "markdown",
   "metadata": {},
   "source": [
    "## Lambda Functions <br>\n",
    "<p>Lambda functions... or \"Anonymous Functions\" are referring to inline functions with no name. The keyword lambda denotes the no name function, and executes within a single line. Without saving it to a variable; however, it is not able to be used, unless passed in either as a paramater or within list comprehension.<br>Written as \"(keyword lambda) (one or more inputs) (colon) (function to be executed)\"</p>"
   ]
  },
  {
   "cell_type": "markdown",
   "metadata": {},
   "source": [
    "#### Syntax"
   ]
  },
  {
   "cell_type": "code",
   "execution_count": 1,
   "metadata": {},
   "outputs": [
    {
     "data": {
      "text/plain": [
       "12"
      ]
     },
     "execution_count": 1,
     "metadata": {},
     "output_type": "execute_result"
    }
   ],
   "source": [
    "# Lambda <input1>, <input2> <or more>: <code to execute>\n",
    "#always one line, the return keyword is already built in, so we do not need to call return\n",
    "\n",
    "(lambda num: num+2)(10) #wrap in () to self-execute, any values to be input in () after the lambda ()"
   ]
  },
  {
   "cell_type": "code",
   "execution_count": 2,
   "metadata": {},
   "outputs": [
    {
     "data": {
      "text/plain": [
       "12"
      ]
     },
     "execution_count": 2,
     "metadata": {},
     "output_type": "execute_result"
    }
   ],
   "source": [
    "#same thing as the lambda function, however, the lambda function is good for small, quick, or someething that\n",
    "# does not need to be reused.\n",
    "def add_two(num):\n",
    "    return num + 2\n",
    "\n",
    "add_two(10)"
   ]
  },
  {
   "cell_type": "markdown",
   "metadata": {},
   "source": [
    "#### Saving to a Variable"
   ]
  },
  {
   "cell_type": "code",
   "execution_count": 3,
   "metadata": {},
   "outputs": [
    {
     "data": {
      "text/plain": [
       "22"
      ]
     },
     "execution_count": 3,
     "metadata": {},
     "output_type": "execute_result"
    }
   ],
   "source": [
    "add_two_lambda = lambda num: num+2\n",
    "add_two_lambda(20)"
   ]
  },
  {
   "cell_type": "markdown",
   "metadata": {},
   "source": [
    "#### Multiple Inputs"
   ]
  },
  {
   "cell_type": "code",
   "execution_count": 4,
   "metadata": {},
   "outputs": [
    {
     "data": {
      "text/plain": [
       "20"
      ]
     },
     "execution_count": 4,
     "metadata": {},
     "output_type": "execute_result"
    }
   ],
   "source": [
    "(lambda num1, num2, num3: num1 + num2 + num3)(6,5,9)"
   ]
  },
  {
   "cell_type": "markdown",
   "metadata": {},
   "source": [
    "#### Passing a Lambda into a Function"
   ]
  },
  {
   "cell_type": "code",
   "execution_count": 14,
   "metadata": {},
   "outputs": [
    {
     "data": {
      "text/plain": [
       "1000"
      ]
     },
     "execution_count": 14,
     "metadata": {},
     "output_type": "execute_result"
    }
   ],
   "source": [
    "# create functiosn recieves a lambda and a number\n",
    "#function input decides what math operation to run\n",
    "\n",
    "def decide_math_operation(fn, num):\n",
    "    return fn(num)\n",
    "    \n",
    "#using lambda to add 10 to second argument\n",
    "decide_math_operation(lambda x: x+10, 25)\n",
    "\n",
    "#storing as variable\n",
    "multiply_by_ten = lambda num: num * 10\n",
    "\n",
    "#using stored lambda to multiply by ten\n",
    "decide_math_operation(multiply_by_ten, 100)"
   ]
  },
  {
   "cell_type": "markdown",
   "metadata": {},
   "source": [
    "#### Returning a Lambda from a Function"
   ]
  },
  {
   "cell_type": "code",
   "execution_count": 16,
   "metadata": {},
   "outputs": [
    {
     "data": {
      "text/plain": [
       "215"
      ]
     },
     "execution_count": 16,
     "metadata": {},
     "output_type": "execute_result"
    }
   ],
   "source": [
    "def returnLambda(num1, num2):\n",
    "    return lambda num3, num4: num1 + num2 + num3 + num4\n",
    "\n",
    "#option1\n",
    "(returnLambda(10, 5))(1,2)\n",
    "\n",
    "#option2 - store the return as a variable and then use that to pass in the missing reqs\n",
    "add_to_fifteen = returnLambda(10,5)\n",
    "add_to_fifteen(100,100)"
   ]
  },
  {
   "cell_type": "markdown",
   "metadata": {},
   "source": [
    "#### If Statements within Lambdas"
   ]
  },
  {
   "cell_type": "code",
   "execution_count": 19,
   "metadata": {},
   "outputs": [
    {
     "name": "stdout",
     "output_type": "stream",
     "text": [
      "True\n",
      "True\n",
      "odd\n"
     ]
    }
   ],
   "source": [
    "if True:\n",
    "    print('True')\n",
    "else:\n",
    "    print('False')\n",
    "    \n",
    "#ternary operator (meant to be simple, not meant to use elif chains.)\n",
    "#<action> if <condition> else <action if false>\n",
    "print('True') if True else print('False')\n",
    "\n",
    "\n",
    "(lambda num: print('even' if num % 2 == 0 else 'odd'))(11)"
   ]
  },
  {
   "cell_type": "markdown",
   "metadata": {},
   "source": [
    "#### In-Class Exercise #1 <br>\n",
    "<p>Write an anonymous function that cubes the arguments passed in and assign the anonymous function to a variable 'f'.</p>"
   ]
  },
  {
   "cell_type": "code",
   "execution_count": 23,
   "metadata": {},
   "outputs": [
    {
     "data": {
      "text/plain": [
       "64"
      ]
     },
     "execution_count": 23,
     "metadata": {},
     "output_type": "execute_result"
    }
   ],
   "source": [
    "f = lambda num: num**3\n",
    "f(4)"
   ]
  },
  {
   "cell_type": "code",
   "execution_count": 25,
   "metadata": {},
   "outputs": [
    {
     "data": {
      "text/plain": [
       "[8, 27, 64, 125, 216, 343, 512, 729, 1000]"
      ]
     },
     "execution_count": 25,
     "metadata": {},
     "output_type": "execute_result"
    }
   ],
   "source": [
    "#Ben D.'s solution\n",
    "f = lambda *args: [x**3 for x in args]\n",
    "f(2, 3, 4, 5, 6, 7, 8, 9, 10)\n",
    "\n"
   ]
  },
  {
   "cell_type": "markdown",
   "metadata": {},
   "source": [
    "## Map <br>\n",
    "<p>The map function allows you to iterate over an entire list while running a function on each item of the list. This is why the map function works well with lambda's, because it simplifies things and you write less lines of code.<br>The syntax for a map function is \"map(function to be used, list to be used)\"<br>However, you must be careful, as the map function returns a map object, not a list. To turn it into a list we use the list() type conversion.</p>"
   ]
  },
  {
   "cell_type": "markdown",
   "metadata": {},
   "source": [
    "#### Syntax"
   ]
  },
  {
   "cell_type": "code",
   "execution_count": 26,
   "metadata": {},
   "outputs": [
    {
     "data": {
      "text/plain": [
       "<map at 0x7fd09032b820>"
      ]
     },
     "execution_count": 26,
     "metadata": {},
     "output_type": "execute_result"
    }
   ],
   "source": [
    "\n",
    "#map object\n",
    "map(lambda x:x**2, [1,2,3,4,5])"
   ]
  },
  {
   "cell_type": "code",
   "execution_count": 30,
   "metadata": {},
   "outputs": [
    {
     "data": {
      "text/plain": [
       "[1, 8, 27, 64, 125]"
      ]
     },
     "execution_count": 30,
     "metadata": {},
     "output_type": "execute_result"
    }
   ],
   "source": [
    "#map w/o lambda\n",
    "\n",
    "def cube_num(num):\n",
    "    return num**3\n",
    "\n",
    "list(map(cube_num, [1,2,3,4,5]))"
   ]
  },
  {
   "cell_type": "code",
   "execution_count": 32,
   "metadata": {},
   "outputs": [
    {
     "data": {
      "text/plain": [
       "[729, 10648, 64, 54872]"
      ]
     },
     "execution_count": 32,
     "metadata": {},
     "output_type": "execute_result"
    }
   ],
   "source": [
    "#w/o lambda or map\n",
    "def cube_list(alist):\n",
    "    output = []\n",
    "    for num in alist:\n",
    "        output.append(num**3)\n",
    "    return output\n",
    "\n",
    "cube_list([9, 22, 4, 38])"
   ]
  },
  {
   "cell_type": "code",
   "execution_count": 27,
   "metadata": {},
   "outputs": [
    {
     "data": {
      "text/plain": [
       "[1, 4, 9, 16, 25]"
      ]
     },
     "execution_count": 27,
     "metadata": {},
     "output_type": "execute_result"
    }
   ],
   "source": [
    "#list conversion\n",
    "list(map(lambda x:x**2, [1,2,3,4,5]))"
   ]
  },
  {
   "cell_type": "code",
   "execution_count": 28,
   "metadata": {},
   "outputs": [
    {
     "data": {
      "text/plain": [
       "[1, 4, 9, 16, 25]"
      ]
     },
     "execution_count": 28,
     "metadata": {},
     "output_type": "execute_result"
    }
   ],
   "source": [
    "#list comprehension\n",
    "[squared_num for squared_num in map(lambda x:x**2, [1,2,3,4,5])]"
   ]
  },
  {
   "cell_type": "code",
   "execution_count": 29,
   "metadata": {},
   "outputs": [
    {
     "name": "stdout",
     "output_type": "stream",
     "text": [
      "1\n",
      "4\n",
      "9\n",
      "16\n",
      "25\n"
     ]
    }
   ],
   "source": [
    "#for loop\n",
    "for num in map(lambda x:x**2, [1,2,3,4,5]):\n",
    "    print(num)"
   ]
  },
  {
   "cell_type": "code",
   "execution_count": 121,
   "metadata": {},
   "outputs": [
    {
     "name": "stdout",
     "output_type": "stream",
     "text": [
      "(123) 456-7890\n"
     ]
    }
   ],
   "source": [
    "#whiteboard solution using map\n",
    "\n",
    "def create_phone_number_map(n):\n",
    "    n = ''.join(map(str, n))\n",
    "    return f\"({n[:3]}) {n[3:6]}-{n[6:]}\"\n",
    "\n",
    "print(create_phone_number_map([1, 2, 3, 4, 5, 6, 7, 8, 9, 0]))"
   ]
  },
  {
   "cell_type": "markdown",
   "metadata": {},
   "source": [
    "#### Using Lambda's with Map"
   ]
  },
  {
   "cell_type": "code",
   "execution_count": 37,
   "metadata": {},
   "outputs": [
    {
     "data": {
      "text/plain": [
       "['Ben', 'Michael', 'Christian', 'Sima']"
      ]
     },
     "execution_count": 37,
     "metadata": {},
     "output_type": "execute_result"
    }
   ],
   "source": [
    "#see above, as well more examples here:\n",
    "\n",
    "#take in list of names, return the list of names in title case\n",
    "\n",
    "list(map(lambda name:name.title(), ['ben', 'michael', 'christian', 'sima']))"
   ]
  },
  {
   "cell_type": "code",
   "execution_count": 39,
   "metadata": {},
   "outputs": [
    {
     "data": {
      "text/plain": [
       "[True, True, True, False]"
      ]
     },
     "execution_count": 39,
     "metadata": {},
     "output_type": "execute_result"
    }
   ],
   "source": [
    "#take two lists (attackers, defenders) compare same position each list true if defender is larger number\n",
    "#return true if more defenders\n",
    "\n",
    "list(map(lambda atk, dfd: dfd > atk, [10,8,10,8], [11,10,11,5]))"
   ]
  },
  {
   "cell_type": "code",
   "execution_count": 43,
   "metadata": {},
   "outputs": [
    {
     "name": "stdout",
     "output_type": "stream",
     "text": [
      "['a', 'b', 'c']\n",
      "[('a', 2), ('b', 3), ('c', 4)]\n"
     ]
    }
   ],
   "source": [
    "#this isn't a useful example, but does showcase how we can loop through a dictionary\n",
    "letter_counts = {'a':2, 'b':3,'c':4}\n",
    "\n",
    "print(list(map(lambda k: k, {'a':2, 'b':3,'c':4})))\n",
    "\n",
    "print(list(map(lambda k: (k,letter_counts[k]), letter_counts)))"
   ]
  },
  {
   "cell_type": "code",
   "execution_count": null,
   "metadata": {},
   "outputs": [],
   "source": []
  },
  {
   "cell_type": "markdown",
   "metadata": {},
   "source": [
    "#### In-Class Exercise #2 <br>\n",
    "<p>Use the map function to double each number and minus it by one in the list by using a lambda function</p>"
   ]
  },
  {
   "cell_type": "code",
   "execution_count": 47,
   "metadata": {},
   "outputs": [
    {
     "data": {
      "text/plain": [
       "[9, 11, 13, 15, 17]"
      ]
     },
     "execution_count": 47,
     "metadata": {},
     "output_type": "execute_result"
    }
   ],
   "source": [
    "list(map(lambda num:num*2-1, [5,6,7,8,9]))"
   ]
  },
  {
   "cell_type": "code",
   "execution_count": 57,
   "metadata": {},
   "outputs": [
    {
     "ename": "NameError",
     "evalue": "name 'num2' is not defined",
     "output_type": "error",
     "traceback": [
      "\u001b[0;31m---------------------------------------------------------------------------\u001b[0m",
      "\u001b[0;31mNameError\u001b[0m                                 Traceback (most recent call last)",
      "Cell \u001b[0;32mIn[57], line 1\u001b[0m\n\u001b[0;32m----> 1\u001b[0m \u001b[38;5;28mlist\u001b[39m(\u001b[38;5;28mmap\u001b[39m(\u001b[38;5;28;01mlambda\u001b[39;00m num1, num2: num1\u001b[38;5;241m*\u001b[39m\u001b[38;5;241m2\u001b[39m\u001b[38;5;241m-\u001b[39m\u001b[38;5;241m1\u001b[39m, \u001b[43mnum2\u001b[49m\u001b[38;5;241m*\u001b[39m\u001b[38;5;241m2\u001b[39m\u001b[38;5;241m-\u001b[39m\u001b[38;5;241m2\u001b[39m, [\u001b[38;5;241m5\u001b[39m,\u001b[38;5;241m6\u001b[39m,\u001b[38;5;241m7\u001b[39m,\u001b[38;5;241m8\u001b[39m,\u001b[38;5;241m9\u001b[39m], [\u001b[38;5;241m5\u001b[39m,\u001b[38;5;241m6\u001b[39m,\u001b[38;5;241m7\u001b[39m,\u001b[38;5;241m8\u001b[39m,\u001b[38;5;241m9\u001b[39m]))\n",
      "\u001b[0;31mNameError\u001b[0m: name 'num2' is not defined"
     ]
    }
   ],
   "source": [
    "#this does NOT work. I do not think this is how lambda is supposed to function...\n",
    "\n",
    "list(map(lambda num1, num2: num1*2-1, num2*2-2, [5,6,7,8,9], [5,6,7,8,9]))"
   ]
  },
  {
   "cell_type": "markdown",
   "metadata": {},
   "source": [
    "## Filter() <br>\n",
    "<p>Filter's are similar to the map function, where you're able to pass a function argument and a list argument and filter out something from the list based on the conditions passed. Similar to the map function, it returns a filter object, so you need to type convert it to a list()</p>"
   ]
  },
  {
   "cell_type": "markdown",
   "metadata": {},
   "source": [
    "#### Syntax"
   ]
  },
  {
   "cell_type": "code",
   "execution_count": 62,
   "metadata": {},
   "outputs": [
    {
     "name": "stdout",
     "output_type": "stream",
     "text": [
      "<filter object at 0x7fd0d0a142b0>\n",
      "[11, 10, 12]\n",
      "[11, 10, 12]\n"
     ]
    }
   ],
   "source": [
    "#filter(<function --> return T or F>, <iterable) --> return a filter object \n",
    "\n",
    "# filter(lambda num: True if num > 10 else False)\n",
    "\n",
    "#--> could be shortened to num > 10 since it is already producing a true/false statement\n",
    "\n",
    "print(filter(lambda num: num >=10, [11,10,9,8,12]))\n",
    "print(list(filter(lambda num: num >=10, [11,10,9,8,12])))\n",
    "print([num for num in filter(lambda num: num >=10, [11,10,9,8,12])])"
   ]
  },
  {
   "cell_type": "code",
   "execution_count": 66,
   "metadata": {},
   "outputs": [
    {
     "name": "stdout",
     "output_type": "stream",
     "text": [
      "11 10 12\n",
      "11-10-12\n"
     ]
    }
   ],
   "source": [
    "print(' '.join(str(e) for e in filter(lambda num: num >=10, [11,10,9,8,12])))\n",
    "print('-'.join(str(e) for e in filter(lambda num: num >=10, [11,10,9,8,12])))"
   ]
  },
  {
   "cell_type": "markdown",
   "metadata": {},
   "source": [
    "#### Using Lambda's with Filter()"
   ]
  },
  {
   "cell_type": "code",
   "execution_count": 68,
   "metadata": {},
   "outputs": [
    {
     "data": {
      "text/plain": [
       "['christian', 'sima']"
      ]
     },
     "execution_count": 68,
     "metadata": {},
     "output_type": "execute_result"
    }
   ],
   "source": [
    "absences = {\n",
    "    'christian': 6,\n",
    "    'sima': 5,\n",
    "    'ben': 0,\n",
    "    'michael': 1\n",
    "}\n",
    "\n",
    "list(filter(lambda student: absences[student]>=3,absences))"
   ]
  },
  {
   "cell_type": "code",
   "execution_count": null,
   "metadata": {},
   "outputs": [],
   "source": [
    "absences = {\n",
    "    'christian': 6,\n",
    "    'sima': 5,\n",
    "    'ben': 0,\n",
    "    'michael': 1\n",
    "}\n",
    "\n",
    "for student in filter(lambda student: absences[student]>=3,absences):\n",
    "    place_on_probation(student)"
   ]
  },
  {
   "cell_type": "code",
   "execution_count": 70,
   "metadata": {},
   "outputs": [
    {
     "name": "stdout",
     "output_type": "stream",
     "text": [
      "True\n",
      "True\n"
     ]
    }
   ],
   "source": [
    "print(11>=10)\n",
    "#these two are the same/produce the same result.\n",
    "print(True if 11>=10 else False)"
   ]
  },
  {
   "cell_type": "code",
   "execution_count": 73,
   "metadata": {},
   "outputs": [
    {
     "data": {
      "text/plain": [
       "[10, 2, 8]"
      ]
     },
     "execution_count": 73,
     "metadata": {},
     "output_type": "execute_result"
    }
   ],
   "source": [
    "def check_even(num):#we only need one parameter here since filter will function through the entire list. This focuses\n",
    "    #on a single number, which is what we need.\n",
    "    \n",
    "    return num%2==0 #this returns a boolean statement since 0 == 0 returns true.\n",
    "\n",
    "num_list = [10,2,1,8,11,141]\n",
    "\n",
    "[num for num in filter(check_even, num_list)]"
   ]
  },
  {
   "cell_type": "markdown",
   "metadata": {},
   "source": [
    "#### In-Class Exercise #3 <br>\n",
    "<p>Filter out all the numbers that are below the mean of the list.<br><b>Hint: Import the 'statistics' module</b></p>"
   ]
  },
  {
   "cell_type": "code",
   "execution_count": 78,
   "metadata": {},
   "outputs": [
    {
     "name": "stdout",
     "output_type": "stream",
     "text": [
      "37.833333333333336\n",
      "[45, 100]\n",
      "[45, 100]\n"
     ]
    }
   ],
   "source": [
    "#import statistics module\n",
    "#find the mean of a list\n",
    "#filter out the numbers the are < mean.\n",
    "\n",
    "from statistics import mean\n",
    "\n",
    "mean_value=mean([12,15,25,30,45,100])\n",
    "\n",
    "print(mean_value)\n",
    "\n",
    "print(list(filter(lambda num: num > mean_value, [12,15,25,30,45,100])))\n"
   ]
  },
  {
   "cell_type": "markdown",
   "metadata": {},
   "source": [
    "## Reduce() <br>\n",
    "<p>Be very careful when using this function, as of Python 3 it's been moved to the 'functools' library and no longer is a built-in function.<br>The creator of Python himself, says to just use a for loop instead.</p>"
   ]
  },
  {
   "cell_type": "markdown",
   "metadata": {},
   "source": [
    "#### Syntax"
   ]
  },
  {
   "cell_type": "code",
   "execution_count": 82,
   "metadata": {},
   "outputs": [
    {
     "name": "stdout",
     "output_type": "stream",
     "text": [
      "15\n"
     ]
    }
   ],
   "source": [
    "#reduce\n",
    "sum([1,2,3,4,5]) #this will reduce it down to one number (2 added to 1, 3 added to 3, \n",
    "#4 added to 6, 5 added 10 =(reduced to single number) 15)\n",
    "\n",
    "def my_sum(num_list):\n",
    "    total = 0\n",
    "    for num in num_list:\n",
    "        total+=num\n",
    "    return total\n",
    "\n",
    "my_sum([1,2,3,4,5])\n",
    "\n",
    "from functools import reduce\n",
    "\n",
    "#reduce(<fn>, iterable)\n",
    "\n",
    "print(reduce(lambda accumulator, num: accumulator + num, [1,2,3,4,5]))"
   ]
  },
  {
   "cell_type": "markdown",
   "metadata": {},
   "source": [
    "#### Using Lambda's with Reduce()"
   ]
  },
  {
   "cell_type": "code",
   "execution_count": null,
   "metadata": {},
   "outputs": [],
   "source": []
  },
  {
   "cell_type": "markdown",
   "metadata": {},
   "source": [
    "#### In-Class Exercise #4 <br>\n",
    "<p>Use the reduce function to multiply the numbers in the list below together with a lambda function.</p>"
   ]
  },
  {
   "cell_type": "code",
   "execution_count": 86,
   "metadata": {},
   "outputs": [
    {
     "name": "stdout",
     "output_type": "stream",
     "text": [
      "120\n",
      "720\n",
      "19326120\n"
     ]
    }
   ],
   "source": [
    "print(reduce(lambda acc, num: acc * num, [1,2,3,4,5]))\n",
    "print(reduce(lambda acc, num: acc * num, [1,2,3,4,5,6]))\n",
    "print(reduce(lambda acc, num: acc * num, [11,22,33,44,55]))"
   ]
  },
  {
   "cell_type": "markdown",
   "metadata": {},
   "source": [
    "## Recursion <br>\n",
    "<p>Recursion means that a function is calling itself, so it contanstly executes until a base case is reached. It will then push the returning values back up the chain until the function is complete. A prime example of recursion is computing factorials... such that 5! (factorial) is 5*4*3*2*1 which equals 120.</p>"
   ]
  },
  {
   "cell_type": "markdown",
   "metadata": {},
   "source": [
    "#### Implementing a Base Case"
   ]
  },
  {
   "cell_type": "code",
   "execution_count": 89,
   "metadata": {},
   "outputs": [
    {
     "name": "stdout",
     "output_type": "stream",
     "text": [
      "find_factorial(5) = 5 * find_factorial(4)\n",
      "find_factorial(4) = 4 * find_factorial(3)\n",
      "find_factorial(3) = 3 * find_factorial(2)\n",
      "find_factorial(2) = 2 * find_factorial(1)\n",
      "find_factorial(1) = 1\n"
     ]
    },
    {
     "data": {
      "text/plain": [
       "120"
      ]
     },
     "execution_count": 89,
     "metadata": {},
     "output_type": "execute_result"
    }
   ],
   "source": [
    "def find_factorial(num):\n",
    "    if num == 1:\n",
    "        print(f'find_factorial({num}) = {num}') #for illustrative purpose. What is happening.\n",
    "        return 1\n",
    "    print(f'find_factorial({num}) = {num} * find_factorial({num-1})') #for illustrative purpose only\n",
    "    return find_factorial(num-1) * num\n",
    "\n",
    "#5 * factorial(4) --> to find the factorial of 4, we need to run the function again which becomes-->\n",
    "#4 * factorial(3) -->this continues until we hit our base case (i.e., the if statement is met, here when num =1)\n",
    "#3 * factorial(2) \n",
    "#2 * factoraial(1) -> 1 = 2\n",
    "#factorial(1) = 1\n",
    "\n",
    "#in other words\n",
    "\n",
    "#5 * factorial(4)(24) = 120\n",
    "#4 * factorial(3)(6) = 24\n",
    "#3 * factorial(2)(2) = 6 \n",
    "#2 * factoraial(1)(1) = 2\n",
    "#factorial(1) = 1\n",
    "\n",
    "find_factorial(5)"
   ]
  },
  {
   "cell_type": "code",
   "execution_count": 91,
   "metadata": {},
   "outputs": [
    {
     "data": {
      "text/plain": [
       "[1]"
      ]
     },
     "execution_count": 91,
     "metadata": {},
     "output_type": "execute_result"
    }
   ],
   "source": [
    "def find_smallest_doll(dolls):\n",
    "    if dolls[0] == min(dolls):\n",
    "        return dolls\n",
    "    return find_smallest_doll(dolls[1:])\n",
    "\n",
    "\n",
    "\n",
    "dolls = [5,4,3,2,1]\n",
    "\n",
    "find_smallest_doll(dolls)"
   ]
  },
  {
   "cell_type": "markdown",
   "metadata": {},
   "source": [
    "#### Writing a Factorial Function"
   ]
  },
  {
   "cell_type": "code",
   "execution_count": null,
   "metadata": {},
   "outputs": [],
   "source": []
  },
  {
   "cell_type": "markdown",
   "metadata": {},
   "source": [
    "#### In-Class Exercise #5 <br>\n",
    "<p>Write a recursive function that subtracts all numbers to the argument given.</p>"
   ]
  },
  {
   "cell_type": "code",
   "execution_count": 107,
   "metadata": {},
   "outputs": [
    {
     "name": "stdout",
     "output_type": "stream",
     "text": [
      "8\n"
     ]
    }
   ],
   "source": [
    "def subtract_numbers(nums):\n",
    "    if nums == 6:\n",
    "        return 6\n",
    "    else:\n",
    "        return nums - subtract_numbers(nums-1)\n",
    "\n",
    "\n",
    "\n",
    "print(subtract_numbers(10))\n",
    "\n",
    "\n",
    "# pyramidic\n",
    "# 10 - subtract_numbers([9, 8, 7, 6])\n",
    "# 10 - (9 - subtract_numbers([8, 7, 6]))\n",
    "# 10 - (9 - (8 - subtract_numbers([7, 6])))\n",
    "# 10 - (9 - (8 - (7 - subtract_numbers([6]))))\n",
    "# 10 - (9 - (8 - (7 - (6 - subtract_numbers([])))))\n",
    "# 10 - (9 - (8 - (7 - (6 - 0))))\n",
    "# 10 - (9 - (8 - (7 - 6)))\n",
    "# 10 - (9 - (8 - 1))\n",
    "# 10 - (9 - 7)\n",
    "# 10 - 2\n",
    "# 8"
   ]
  },
  {
   "cell_type": "code",
   "execution_count": 119,
   "metadata": {},
   "outputs": [
    {
     "data": {
      "text/plain": [
       "'sue jill john bob'"
      ]
     },
     "execution_count": 119,
     "metadata": {},
     "output_type": "execute_result"
    }
   ],
   "source": [
    "['bob', 'john', 'jill', 'sue']\n",
    "\n",
    "def create_string(name_list):\n",
    "    if len(name_list) == 1:\n",
    "        return name_list[0]\n",
    "    return create_string(name_list[1:]) + ' ' + name_list[0]\n",
    "\n",
    "create_string(['bob', 'john', 'jill', 'sue'])"
   ]
  },
  {
   "cell_type": "markdown",
   "metadata": {},
   "source": [
    "## Generators <br>\n",
    "<p>Generators are a type of iterable, like lists or tuples. They do not allow indexing, but they can still be iterated through with for loops. They are created using functions and the yield statement.</p>"
   ]
  },
  {
   "cell_type": "markdown",
   "metadata": {},
   "source": [
    "#### Yield Keyword <br>\n",
    "<p>The yield keyword denotes a generator, it doesn't return so it won't leave the function and reset all variables in the function scope, instead it yields the number back to the caller.</p>"
   ]
  },
  {
   "cell_type": "code",
   "execution_count": null,
   "metadata": {},
   "outputs": [],
   "source": []
  },
  {
   "cell_type": "markdown",
   "metadata": {},
   "source": [
    "#### Infinite Generator"
   ]
  },
  {
   "cell_type": "code",
   "execution_count": 7,
   "metadata": {},
   "outputs": [],
   "source": [
    "# bad, never create infinite loops"
   ]
  },
  {
   "cell_type": "markdown",
   "metadata": {},
   "source": [
    "#### In-Class Exercise #6 <br>\n",
    "<p>Create a generator that takes a number argument and yields that number squared, then prints each number squared until zero is reached.</p>"
   ]
  },
  {
   "cell_type": "code",
   "execution_count": null,
   "metadata": {},
   "outputs": [],
   "source": []
  },
  {
   "cell_type": "markdown",
   "metadata": {},
   "source": [
    "# Exercises"
   ]
  },
  {
   "cell_type": "markdown",
   "metadata": {},
   "source": [
    "### Exercise #1 <br>\n",
    "<p>Filter out all of the empty strings from the list below</p>\n",
    "\n",
    "`Output: ['Argentina', 'San Diego', 'Boston', 'New York']`"
   ]
  },
  {
   "cell_type": "code",
   "execution_count": 120,
   "metadata": {},
   "outputs": [
    {
     "name": "stdout",
     "output_type": "stream",
     "text": [
      "['Argentina', 'San Diego', 'Boston', 'New York']\n"
     ]
    }
   ],
   "source": [
    "places = [\" \",\"Argentina\", \" \", \"San Diego\",\"\",\"  \",\"\",\"Boston\",\"New York\"]\n",
    "\n",
    "print(list(filter(lambda item: item.strip(), places)))\n",
    "\n",
    "\"\"\"\n",
    "This function uses the strip method to filter out the excess white space. This solves the problem that would\n",
    "arise if I did not know all the items in the list nor how long the smallest, non-empty string was. My original\n",
    "reponse utilized a >= condition to filter out the white space. However, after testing it a few times, I noticed\n",
    "that it would at times return an empty space if the space was a certain length (e.g., two spaces = len of 2). This\n",
    "was an issue that I wanted to ensure would not come up regardless of how many spaces an empty string contained. \n",
    "This is where .strip() came to mind.\n",
    "\"\"\"\n"
   ]
  },
  {
   "cell_type": "markdown",
   "metadata": {},
   "source": [
    "### Exercise #2 <br>\n",
    "<p>Write an anonymous function that sorts this list by the last name...<br><b>Hint: Use the \".sort()\" method and access the key\"</b></p>\n",
    "\n",
    "`Output: ['Victor aNisimov', 'Gary A.J. Bernstein', 'Joel Carter', 'Andrew P. Garfield', 'David hassELHOFF']`"
   ]
  },
  {
   "cell_type": "code",
   "execution_count": 140,
   "metadata": {},
   "outputs": [
    {
     "name": "stdout",
     "output_type": "stream",
     "text": [
      "['Victor aNisimov', 'Gary A.J. Bernstein', 'Joel Carter', 'Andrew P. Garfield', 'David hassELHOFF']\n"
     ]
    }
   ],
   "source": [
    "author = [\"Joel Carter\", \"Victor aNisimov\", \"Andrew P. Garfield\",\"David hassELHOFF\",\"Gary A.J. Bernstein\"]\n",
    "\n",
    "author.sort(key=lambda item: item.split()[-1].casefold())\n",
    "\n",
    "print(author)\n",
    "\n",
    "\"\"\"\n",
    "Reqs: \n",
    "1. sort the list by last name (need to differentiate the last name from the first name or middle initials).\n",
    "2. sort the list without respect to case (capitals do not take priority over lower case).\n",
    "\n",
    "Steps:\n",
    "1.call the sort method on our list\n",
    "2.as our key (which influences our sorting criteria) use lambda to define our specific guidelines\n",
    "3. firstly, we need to address how we can isolate the last name for sorting. We call the split method on the item\n",
    "    to split the single item (i.e., full name) into parts.\n",
    "4.We index into our names to identify which one we want to sort by. However! As I almost forgot originally that\n",
    "    the middle initials were counting at separate pieces with the split, so I needed to use [-1] to ensure that\n",
    "    I was getting the last name listed in each case.\n",
    "5. The last hurdle to overcome is the case disparity. We call the method .casefold() to perform a case-insensitive\n",
    "    sorting (it appears to be a better way to handle string comparison than using something like .lower() \n",
    "    according to W3Schools)\n",
    "\"\"\"\n"
   ]
  },
  {
   "cell_type": "markdown",
   "metadata": {},
   "source": [
    "### Exercise #3 <br>\n",
    "<p>Convert the list below from Celsius to Farhenheit, using the map function with a lambda...</p>\n",
    "\n",
    "`Output: [('Nashua', 89.6), ('Boston', 53.6), ('Los Angelos', 111.2), ('Miami', 84.2)]\n",
    "`"
   ]
  },
  {
   "cell_type": "code",
   "execution_count": 127,
   "metadata": {},
   "outputs": [
    {
     "name": "stdout",
     "output_type": "stream",
     "text": [
      "[('Nashua', 89.6), ('Boston', 53.6), ('Los Angelos', 111.2), ('Miami', 84.2)]\n"
     ]
    }
   ],
   "source": [
    "# F = (9/5)*C + 32\n",
    "places = [('Nashua',32),(\"Boston\",12),(\"Los Angelos\",44),(\"Miami\",29)]\n",
    "print(list(map(lambda item: (item[0], (9/5) * item[1] + 32), places))) #make the element after the colon a tuple\n",
    "# to ensure that the name (or index 0 of the pairs) is retained along with the converted digits."
   ]
  },
  {
   "cell_type": "markdown",
   "metadata": {},
   "source": [
    "### Exercise #4 <br>\n",
    "<p>Write a recursion function to perform the fibonacci sequence up to the number passed in.</p>\n",
    "\n",
    "`Output for fib(5) => \n",
    "Iteration 0: 1\n",
    "Iteration 1: 1\n",
    "Iteration 2: 2\n",
    "Iteration 3: 3\n",
    "Iteration 4: 5\n",
    "Iteration 5: 8`"
   ]
  },
  {
   "cell_type": "code",
   "execution_count": 149,
   "metadata": {
    "scrolled": true
   },
   "outputs": [
    {
     "name": "stdout",
     "output_type": "stream",
     "text": [
      "[0, 1, 1, 2, 3]\n"
     ]
    }
   ],
   "source": [
    "def fibonacci_sequence(num):\n",
    "    fib = []\n",
    "    if num <= 0: #starts at 0, and does not have two preceding numbers, so set the value\n",
    "        return []\n",
    "    elif num == 1: # likewise does not have two preceding numbers, so set the value\n",
    "        return [0]\n",
    "    elif num == 2: #set the value. Although it had two numbers, one is 0. Beyond here should be fine.\n",
    "        return [0, 1]\n",
    "    else:\n",
    "        fib = fibonacci_sequence(num -1) #I kept forgetting this part, which explains why the fn was not recursive!\n",
    "        fib.append(fib[-1] + fib[-2])\n",
    "        return fib\n",
    "            \n",
    "print(fibonacci_sequence(5))\n",
    "\n",
    "\n",
    "\"\"\"\n",
    "reqs:\n",
    "1. set up the fibonacci sequence\n",
    "2. make a recursive function that goes up to the given number \n",
    "\n",
    "steps:\n",
    "1. create an empty list where the new values will be stored\n",
    "2. set some parameters for starting the fibonacci sequence (if/elif statements)\n",
    "    -certain condiditon are needed to get it going and ensure that it all works (e.g., the beginning three digits)\n",
    "3. call the function again to make it recursive.\n",
    "4. In the newly recalled function, set the argument to num-1 to ensure that it goes up to, but not beyond the \n",
    "    given input.\n",
    "5. use the append() method to add the values to the list. \n",
    "    -here, the arguments that describe the fibonacci sequence are used to ensure that the subsequent values \n",
    "     follow the pattern correctly (i.e., the next number in the sequence is the sum of the two preceding numbers)\n",
    "6.return the list\n",
    "\"\"\""
   ]
  }
 ],
 "metadata": {
  "kernelspec": {
   "display_name": "Python 3 (ipykernel)",
   "language": "python",
   "name": "python3"
  },
  "language_info": {
   "codemirror_mode": {
    "name": "ipython",
    "version": 3
   },
   "file_extension": ".py",
   "mimetype": "text/x-python",
   "name": "python",
   "nbconvert_exporter": "python",
   "pygments_lexer": "ipython3",
   "version": "3.10.9"
  }
 },
 "nbformat": 4,
 "nbformat_minor": 2
}
